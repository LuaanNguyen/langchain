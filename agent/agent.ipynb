{
 "cells": [
  {
   "cell_type": "code",
   "execution_count": 2,
   "id": "163fc4a0-57f1-4c44-89c3-b176427f9e5b",
   "metadata": {},
   "outputs": [],
   "source": [
    "import getpass\n",
    "import os\n",
    "\n",
    "try:\n",
    "    # load environment variables from .env file (requires `python-dotenv`)\n",
    "    from dotenv import load_dotenv\n",
    "\n",
    "    load_dotenv()\n",
    "except ImportError:\n",
    "    pass\n",
    "\n",
    "os.environ[\"LANGSMITH_TRACING\"] = \"true\"\n",
    "if \"LANGSMITH_API_KEY\" not in os.environ:\n",
    "    os.environ[\"LANGSMITH_API_KEY\"] = getpass.getpass(\n",
    "        prompt=\"Enter your LangSmith API key: \"\n",
    "    )\n",
    "if \"LANGSMITH_PROJECT\" not in os.environ:\n",
    "    os.environ[\"LANGSMITH_PROJECT\"] = getpass.getpass(\n",
    "        prompt='Enter your LangSmith Project Name (default = \"default\"): '\n",
    "    )\n",
    "    if not os.environ.get(\"LANGSMITH_PROJECT\"):\n",
    "        os.environ[\"LANGSMITH_PROJECT\"] = \"default\"\n",
    "if \"TAVILY_API_KEY\" not in os.environ: \n",
    "    os.environ[\"TAVILY_API_KEY\"] = getpass.getpass(\n",
    "        prompt='Enter your Tavily API key: '\n",
    "    )\n",
    "if \"OPENAI_API_KEY\" not in os.environ:\n",
    "    os.environ[\"OPENAI_API_KEY\"] = getpass.getpass(\n",
    "        prompt=\"Enter your OpenAI API key: \"\n",
    "    )"
   ]
  },
  {
   "cell_type": "code",
   "execution_count": 3,
   "id": "725718f7-8e59-4a1e-9ab0-899f83fa0f53",
   "metadata": {},
   "outputs": [
    {
     "name": "stdout",
     "output_type": "stream",
     "text": [
      "[{'url': 'https://weathershogun.com/weather/usa/ca/san-francisco/480/may/2025-05-17', 'content': 'San Francisco, California Weather: Saturday, May 17, 2025. Cloudy weather, overcast skies with clouds. Day 64°. Night 52°. Precipitation 1 %.'}, {'url': 'https://www.weatherapi.com/', 'content': \"{'location': {'name': 'San Francisco', 'region': 'California', 'country': 'United States of America', 'lat': 37.775, 'lon': -122.4183, 'tz_id': 'America/Los_Angeles', 'localtime_epoch': 1747440067, 'localtime': '2025-05-16 17:01'}, 'current': {'last_updated_epoch': 1747440000, 'last_updated': '2025-05-16 17:00', 'temp_c': 15.6, 'temp_f': 60.1, 'is_day': 1, 'condition': {'text': 'Partly cloudy', 'icon': '//cdn.weatherapi.com/weather/64x64/day/116.png', 'code': 1003}, 'wind_mph': 14.1, 'wind_kph': 22.7, 'wind_degree': 272, 'wind_dir': 'W', 'pressure_mb': 1014.0, 'pressure_in': 29.93, 'precip_mm': 0.0, 'precip_in': 0.0, 'humidity': 64, 'cloud': 75, 'feelslike_c': 15.6, 'feelslike_f': 60.1, 'windchill_c': 11.9, 'windchill_f': 53.5, 'heatindex_c': 13.1, 'heatindex_f': 55.6, 'dewpoint_c': 11.0, 'dewpoint_f': 51.8, 'vis_km': 16.0, 'vis_miles': 9.0, 'uv': 2.5, 'gust_mph': 19.6, 'gust_kph': 31.5}}\"}]\n"
     ]
    }
   ],
   "source": [
    "from langchain_community.tools.tavily_search import TavilySearchResults\n",
    "\n",
    "search = TavilySearchResults(max_results=2)\n",
    "search_results = search.invoke(\"what is the weather in SF\")\n",
    "print(search_results)\n",
    "# If we want, we can create other tools.\n",
    "# Once we have all the tools we want, we can put them in a list that we will reference later.\n",
    "tools = [search]"
   ]
  },
  {
   "cell_type": "code",
   "execution_count": 4,
   "id": "6f7f96ae-7b00-4dff-bebb-abd136a12a71",
   "metadata": {},
   "outputs": [
    {
     "data": {
      "text/plain": [
       "'Hello! How can I assist you today?'"
      ]
     },
     "execution_count": 4,
     "metadata": {},
     "output_type": "execute_result"
    }
   ],
   "source": [
    "from langchain.chat_models import init_chat_model\n",
    "from langchain_core.messages import HumanMessage\n",
    "\n",
    "model = init_chat_model(\"gpt-4o-mini\", model_provider=\"openai\")\n",
    "\n",
    "response = model.invoke([HumanMessage(content=\"hi!\")])\n",
    "response.content"
   ]
  },
  {
   "cell_type": "code",
   "execution_count": 5,
   "id": "05e53dac-8343-4733-9c61-4745404d90e4",
   "metadata": {},
   "outputs": [],
   "source": [
    "#bind tools to model \n",
    "model_with_tools = model.bind_tools(tools)"
   ]
  },
  {
   "cell_type": "code",
   "execution_count": 6,
   "id": "88439db1-79bf-4c31-901e-b1e7522fab3b",
   "metadata": {},
   "outputs": [
    {
     "name": "stdout",
     "output_type": "stream",
     "text": [
      "ContentString: Hello! How can I assist you today?\n",
      "ToolCalls: []\n"
     ]
    }
   ],
   "source": [
    "# call the model, print out the tools called \n",
    "response = model_with_tools.invoke([HumanMessage(content=\"Hi!\")])\n",
    "\n",
    "print(f\"ContentString: {response.content}\")\n",
    "print(f\"ToolCalls: {response.tool_calls}\")"
   ]
  },
  {
   "cell_type": "code",
   "execution_count": 10,
   "id": "5baedab5-4080-4af6-a255-5ee58df0fe14",
   "metadata": {},
   "outputs": [
    {
     "name": "stdout",
     "output_type": "stream",
     "text": [
      "ContentString: \n",
      "ToolCalls: [{'name': 'tavily_search_results_json', 'args': {'query': 'San Francisco weather'}, 'id': 'call_3PfoXUXty5Zq6fS4FOjqxaM9', 'type': 'tool_call'}]\n"
     ]
    }
   ],
   "source": [
    "# use another prompt so the model request to use tool\n",
    "response = model_with_tools.invoke([HumanMessage(content=\"What's the weather in SF?\")])\n",
    "\n",
    "print(f\"ContentString: {response.content}\")\n",
    "print(f\"ToolCalls: {response.tool_calls}\")"
   ]
  },
  {
   "cell_type": "code",
   "execution_count": 11,
   "id": "0999467d-56ac-477c-a876-e1dea1207128",
   "metadata": {},
   "outputs": [],
   "source": [
    "# Using langgraph for calling agent \n",
    "from langgraph.prebuilt import create_react_agent\n",
    "\n",
    "agent_executor = create_react_agent(model, tools) # we pass in model, not model-with-tool, because create_react_agent will call bind_tools() under the hood "
   ]
  },
  {
   "cell_type": "code",
   "execution_count": 12,
   "id": "250f9e86-20cd-4c06-9b4b-9201748b2e81",
   "metadata": {},
   "outputs": [
    {
     "data": {
      "text/plain": [
       "[HumanMessage(content='hi!', additional_kwargs={}, response_metadata={}, id='895acb33-596e-4785-8550-b47dc4b2cb07'),\n",
       " AIMessage(content='Hello! How can I assist you today?', additional_kwargs={'refusal': None}, response_metadata={'token_usage': {'completion_tokens': 10, 'prompt_tokens': 81, 'total_tokens': 91, 'completion_tokens_details': {'accepted_prediction_tokens': 0, 'audio_tokens': 0, 'reasoning_tokens': 0, 'rejected_prediction_tokens': 0}, 'prompt_tokens_details': {'audio_tokens': 0, 'cached_tokens': 0}}, 'model_name': 'gpt-4o-mini-2024-07-18', 'system_fingerprint': 'fp_54eb4bd693', 'id': 'chatcmpl-BXzrdvzcV9uAYUjO5fCNwau37ZJZd', 'service_tier': 'default', 'finish_reason': 'stop', 'logprobs': None}, id='run--af522407-d150-4ddb-a5d3-111bb4e5acbb-0', usage_metadata={'input_tokens': 81, 'output_tokens': 10, 'total_tokens': 91, 'input_token_details': {'audio': 0, 'cache_read': 0}, 'output_token_details': {'audio': 0, 'reasoning': 0}})]"
      ]
     },
     "execution_count": 12,
     "metadata": {},
     "output_type": "execute_result"
    }
   ],
   "source": [
    "# calling agent without a tool first \n",
    "response = agent_executor.invoke({\"messages\": [HumanMessage(content=\"hi!\")]})\n",
    "\n",
    "response[\"messages\"]"
   ]
  },
  {
   "cell_type": "code",
   "execution_count": 13,
   "id": "8560bbb8-5889-4874-aea1-47e3d336011b",
   "metadata": {},
   "outputs": [
    {
     "data": {
      "text/plain": [
       "[HumanMessage(content='whats the weather in sf?', additional_kwargs={}, response_metadata={}, id='1d1b0518-30f2-4933-b333-6725c3526cae'),\n",
       " AIMessage(content='', additional_kwargs={'tool_calls': [{'id': 'call_tX4ULi7f6mQB1kvSw6EQwpL5', 'function': {'arguments': '{\"query\":\"San Francisco current weather\"}', 'name': 'tavily_search_results_json'}, 'type': 'function'}], 'refusal': None}, response_metadata={'token_usage': {'completion_tokens': 21, 'prompt_tokens': 86, 'total_tokens': 107, 'completion_tokens_details': {'accepted_prediction_tokens': 0, 'audio_tokens': 0, 'reasoning_tokens': 0, 'rejected_prediction_tokens': 0}, 'prompt_tokens_details': {'audio_tokens': 0, 'cached_tokens': 0}}, 'model_name': 'gpt-4o-mini-2024-07-18', 'system_fingerprint': 'fp_54eb4bd693', 'id': 'chatcmpl-BXzsCfDjQkhxcilJ7JTI80n6taHBr', 'service_tier': 'default', 'finish_reason': 'tool_calls', 'logprobs': None}, id='run--e4c199e4-45e4-4bd1-b141-9ee45103356f-0', tool_calls=[{'name': 'tavily_search_results_json', 'args': {'query': 'San Francisco current weather'}, 'id': 'call_tX4ULi7f6mQB1kvSw6EQwpL5', 'type': 'tool_call'}], usage_metadata={'input_tokens': 86, 'output_tokens': 21, 'total_tokens': 107, 'input_token_details': {'audio': 0, 'cache_read': 0}, 'output_token_details': {'audio': 0, 'reasoning': 0}}),\n",
       " ToolMessage(content='[{\"url\": \"https://weathershogun.com/weather/usa/ca/san-francisco/480/may/2025-05-17\", \"content\": \"San Francisco, California Weather: Saturday, May 17, 2025. Cloudy weather, overcast skies with clouds. Day 64°. Night 52°. Precipitation 1 %.\"}, {\"url\": \"https://www.easeweather.com/north-america/united-states/california/city-and-county-of-san-francisco/san-francisco/may\", \"content\": \"Discover the most accurate weather forecast for San Francisco in May 2025 ... May 17. Partly cloudy. 57° /51°, 0 in, 0. May 18. Sunny. 60\"}]', name='tavily_search_results_json', id='a6cf9b1e-32bd-40ed-a1e6-7917c0bbaa5d', tool_call_id='call_tX4ULi7f6mQB1kvSw6EQwpL5', artifact={'query': 'San Francisco current weather', 'follow_up_questions': None, 'answer': None, 'images': [], 'results': [{'url': 'https://weathershogun.com/weather/usa/ca/san-francisco/480/may/2025-05-17', 'title': 'Saturday, May 17, 2025. San Francisco, CA - Weather Forecast', 'content': 'San Francisco, California Weather: Saturday, May 17, 2025. Cloudy weather, overcast skies with clouds. Day 64°. Night 52°. Precipitation 1 %.', 'score': 0.96437865, 'raw_content': None}, {'url': 'https://www.easeweather.com/north-america/united-states/california/city-and-county-of-san-francisco/san-francisco/may', 'title': 'Weather in San Francisco in May 2025 - Detailed Forecast', 'content': 'Discover the most accurate weather forecast for San Francisco in May 2025 ... May 17. Partly cloudy. 57° /51°, 0 in, 0. May 18. Sunny. 60', 'score': 0.95857275, 'raw_content': None}], 'response_time': 4.36}),\n",
       " AIMessage(content='The current weather in San Francisco is cloudy with overcast skies. The temperature is around 64°F during the day and drops to 52°F at night, with a low chance of precipitation (1%).\\n\\nFor more details, you can refer to the following sources: \\n- [Weather Shogun](https://weathershogun.com/weather/usa/ca/san-francisco/480/may/2025-05-17)\\n- [Ease Weather](https://www.easeweather.com/north-america/united-states/california/city-and-county-of-san-francisco/san-francisco/may)', additional_kwargs={'refusal': None}, response_metadata={'token_usage': {'completion_tokens': 130, 'prompt_tokens': 287, 'total_tokens': 417, 'completion_tokens_details': {'accepted_prediction_tokens': 0, 'audio_tokens': 0, 'reasoning_tokens': 0, 'rejected_prediction_tokens': 0}, 'prompt_tokens_details': {'audio_tokens': 0, 'cached_tokens': 0}}, 'model_name': 'gpt-4o-mini-2024-07-18', 'system_fingerprint': 'fp_54eb4bd693', 'id': 'chatcmpl-BXzsI3NT0IBTZKEg6znGZMexrH2LT', 'service_tier': 'default', 'finish_reason': 'stop', 'logprobs': None}, id='run--b2d939ca-a87c-4f92-92a6-211a848bad89-0', usage_metadata={'input_tokens': 287, 'output_tokens': 130, 'total_tokens': 417, 'input_token_details': {'audio': 0, 'cache_read': 0}, 'output_token_details': {'audio': 0, 'reasoning': 0}})]"
      ]
     },
     "execution_count": 13,
     "metadata": {},
     "output_type": "execute_result"
    }
   ],
   "source": [
    "# Now we try to invoke a tool \n",
    "response = agent_executor.invoke(\n",
    "    {\"messages\": [HumanMessage(content=\"whats the weather in sf?\")]}\n",
    ")\n",
    "response[\"messages\"]"
   ]
  },
  {
   "cell_type": "code",
   "execution_count": 14,
   "id": "c5419082-bc2b-4df8-bb8d-6b26ee345f1c",
   "metadata": {},
   "outputs": [
    {
     "name": "stdout",
     "output_type": "stream",
     "text": [
      "================================\u001b[1m Human Message \u001b[0m=================================\n",
      "\n",
      "whats the weather in sf?\n",
      "==================================\u001b[1m Ai Message \u001b[0m==================================\n",
      "Tool Calls:\n",
      "  tavily_search_results_json (call_1k5Exq2TwL0DL4pC1naaP8Wm)\n",
      " Call ID: call_1k5Exq2TwL0DL4pC1naaP8Wm\n",
      "  Args:\n",
      "    query: current weather in San Francisco\n",
      "=================================\u001b[1m Tool Message \u001b[0m=================================\n",
      "Name: tavily_search_results_json\n",
      "\n",
      "[{\"url\": \"https://weathershogun.com/weather/usa/ca/san-francisco/480/may/2025-05-17\", \"content\": \"San Francisco, California Weather: Saturday, May 17, 2025. Cloudy weather, overcast skies with clouds. Day 64°. Night 52°. Precipitation 1 %.\"}, {\"url\": \"https://www.easeweather.com/north-america/united-states/california/city-and-county-of-san-francisco/san-francisco/may\", \"content\": \"Weather in San Francisco for May 2025. Your guide to San Francisco weather ... May 17. Partly cloudy. 57° /51°, 0 in, 0. May 18. Sunny. 60\"}]\n",
      "==================================\u001b[1m Ai Message \u001b[0m==================================\n",
      "\n",
      "The current weather in San Francisco is partly cloudy with a temperature around 57°F during the day and dropping to 51°F at night. There is no precipitation expected. For more detailed information, you can check [here](https://www.easeweather.com/north-america/united-states/california/city-and-county-of-san-francisco/san-francisco/may).\n"
     ]
    }
   ],
   "source": [
    "# We can stream back message as the tokens return \n",
    "for step in agent_executor.stream(\n",
    "    {\"messages\": [HumanMessage(content=\"whats the weather in sf?\")]},\n",
    "    stream_mode=\"values\",\n",
    "):\n",
    "    step[\"messages\"][-1].pretty_print()"
   ]
  },
  {
   "cell_type": "code",
   "execution_count": 15,
   "id": "98344cf2-1dc6-47a5-a74b-4c7a84f77d08",
   "metadata": {},
   "outputs": [
    {
     "name": "stdout",
     "output_type": "stream",
     "text": [
      "The| current| weather| in| San| Francisco| shows| cloudy| weather| with| over|cast| skies|.| The| temperature| is| around| |64|°F| during| the| day| and| drops| to| about| |52|°F| at| night|,| with| a| low| chance| of| precipitation|.| \n",
      "\n",
      "|For| more| detailed| updates|,| you| can| check| the| sources| [|here|](|https|://|we|athers|hog|un|.com|/weather|/|usa|/|ca|/s|an|-fr|anc|isco|/|480|/m|ay|/|202|5|-|05|-|17|)| or| [|here|](|https|://|www|.ease|weather|.com|/n|orth|-amer|ica|/un|ited|-st|ates|/cal|ifornia|/c|ity|-and|-c|ounty|-of|-san|-fr|anc|isco|/s|an|-fr|anc|isco|/m|ay|).|"
     ]
    }
   ],
   "source": [
    "# We can also stream back tokens \n",
    "for step, metadata in agent_executor.stream(\n",
    "    {\"messages\": [HumanMessage(content=\"whats the weather in sf?\")]},\n",
    "    stream_mode=\"messages\",\n",
    "):\n",
    "    if metadata[\"langgraph_node\"] == \"agent\" and (text := step.text()):\n",
    "        print(text, end=\"|\")"
   ]
  },
  {
   "cell_type": "code",
   "execution_count": 16,
   "id": "de90311e-13f4-4921-b2a7-4fa0c946af04",
   "metadata": {},
   "outputs": [],
   "source": [
    "# We can also add checkpoint and thread id, so the agent knows where to return from \n",
    "from langgraph.checkpoint.memory import MemorySaver\n",
    "\n",
    "memory = MemorySaver()"
   ]
  },
  {
   "cell_type": "code",
   "execution_count": 17,
   "id": "04e6610e-d8cb-4413-91df-cbc9b246711b",
   "metadata": {},
   "outputs": [],
   "source": [
    "agent_executor = create_react_agent(model, tools, checkpointer=memory)\n",
    "\n",
    "config = {\"configurable\": {\"thread_id\": \"abc123\"}}"
   ]
  },
  {
   "cell_type": "code",
   "execution_count": 18,
   "id": "040da345-b880-422b-a16c-d6a1ae636377",
   "metadata": {},
   "outputs": [
    {
     "name": "stdout",
     "output_type": "stream",
     "text": [
      "{'agent': {'messages': [AIMessage(content='Hello Bob! How can I assist you today?', additional_kwargs={'refusal': None}, response_metadata={'token_usage': {'completion_tokens': 11, 'prompt_tokens': 83, 'total_tokens': 94, 'completion_tokens_details': {'accepted_prediction_tokens': 0, 'audio_tokens': 0, 'reasoning_tokens': 0, 'rejected_prediction_tokens': 0}, 'prompt_tokens_details': {'audio_tokens': 0, 'cached_tokens': 0}}, 'model_name': 'gpt-4o-mini-2024-07-18', 'system_fingerprint': 'fp_54eb4bd693', 'id': 'chatcmpl-BXzxmfEP8CElSwWH4oML8Kxo6JAtz', 'service_tier': 'default', 'finish_reason': 'stop', 'logprobs': None}, id='run--c94d66bc-b70b-4653-90b1-ba2220c62bcb-0', usage_metadata={'input_tokens': 83, 'output_tokens': 11, 'total_tokens': 94, 'input_token_details': {'audio': 0, 'cache_read': 0}, 'output_token_details': {'audio': 0, 'reasoning': 0}})]}}\n",
      "----\n"
     ]
    }
   ],
   "source": [
    "for chunk in agent_executor.stream(\n",
    "    {\"messages\": [HumanMessage(content=\"hi im bob!\")]}, config\n",
    "):\n",
    "    print(chunk)\n",
    "    print(\"----\")"
   ]
  },
  {
   "cell_type": "code",
   "execution_count": 19,
   "id": "010a81cd-94c4-4570-901d-18850f9c80f5",
   "metadata": {},
   "outputs": [
    {
     "name": "stdout",
     "output_type": "stream",
     "text": [
      "{'agent': {'messages': [AIMessage(content='Your name is Bob! How can I help you today?', additional_kwargs={'refusal': None}, response_metadata={'token_usage': {'completion_tokens': 13, 'prompt_tokens': 106, 'total_tokens': 119, 'completion_tokens_details': {'accepted_prediction_tokens': 0, 'audio_tokens': 0, 'reasoning_tokens': 0, 'rejected_prediction_tokens': 0}, 'prompt_tokens_details': {'audio_tokens': 0, 'cached_tokens': 0}}, 'model_name': 'gpt-4o-mini-2024-07-18', 'system_fingerprint': 'fp_54eb4bd693', 'id': 'chatcmpl-BXzy4bYbDO16QJx3s4Fo43OH9ZcPa', 'service_tier': 'default', 'finish_reason': 'stop', 'logprobs': None}, id='run--9de6f0b0-01b0-4dbd-ac8c-39ea0be35f2d-0', usage_metadata={'input_tokens': 106, 'output_tokens': 13, 'total_tokens': 119, 'input_token_details': {'audio': 0, 'cache_read': 0}, 'output_token_details': {'audio': 0, 'reasoning': 0}})]}}\n",
      "----\n"
     ]
    }
   ],
   "source": [
    "for chunk in agent_executor.stream(\n",
    "    {\"messages\": [HumanMessage(content=\"whats my name?\")]}, config\n",
    "):\n",
    "    print(chunk)\n",
    "    print(\"----\")"
   ]
  },
  {
   "cell_type": "code",
   "execution_count": 20,
   "id": "b00c673e-a5cd-4383-a36a-9ecc2314a679",
   "metadata": {},
   "outputs": [
    {
     "name": "stdout",
     "output_type": "stream",
     "text": [
      "{'agent': {'messages': [AIMessage(content=\"I don't have access to personal data about users unless it has been shared with me in the course of our conversation. If you tell me your name, I'd be happy to remember it for the duration of our chat!\", additional_kwargs={'refusal': None}, response_metadata={'token_usage': {'completion_tokens': 44, 'prompt_tokens': 84, 'total_tokens': 128, 'completion_tokens_details': {'accepted_prediction_tokens': 0, 'audio_tokens': 0, 'reasoning_tokens': 0, 'rejected_prediction_tokens': 0}, 'prompt_tokens_details': {'audio_tokens': 0, 'cached_tokens': 0}}, 'model_name': 'gpt-4o-mini-2024-07-18', 'system_fingerprint': 'fp_54eb4bd693', 'id': 'chatcmpl-BXzyegmpOQwqYtG4JC18smxqj5Ja7', 'service_tier': 'default', 'finish_reason': 'stop', 'logprobs': None}, id='run--d565cd5f-d798-474c-911b-94ab6a3ebc58-0', usage_metadata={'input_tokens': 84, 'output_tokens': 44, 'total_tokens': 128, 'input_token_details': {'audio': 0, 'cache_read': 0}, 'output_token_details': {'audio': 0, 'reasoning': 0}})]}}\n",
      "----\n"
     ]
    }
   ],
   "source": [
    "# If you want to start a new conversation, you can change to a new thread id \n",
    "config = {\"configurable\": {\"thread_id\": \"xyz123\"}}\n",
    "for chunk in agent_executor.stream(\n",
    "    {\"messages\": [HumanMessage(content=\"whats my name?\")]}, config\n",
    "):\n",
    "    print(chunk)\n",
    "    print(\"----\")"
   ]
  },
  {
   "cell_type": "code",
   "execution_count": null,
   "id": "94e34fc1-a50c-46f3-986d-5083ba60b57c",
   "metadata": {},
   "outputs": [],
   "source": []
  }
 ],
 "metadata": {
  "kernelspec": {
   "display_name": "Python (agent-env)",
   "language": "python",
   "name": "venv"
  },
  "language_info": {
   "codemirror_mode": {
    "name": "ipython",
    "version": 3
   },
   "file_extension": ".py",
   "mimetype": "text/x-python",
   "name": "python",
   "nbconvert_exporter": "python",
   "pygments_lexer": "ipython3",
   "version": "3.12.4"
  }
 },
 "nbformat": 4,
 "nbformat_minor": 5
}
